{
 "cells": [
  {
   "cell_type": "code",
   "execution_count": 1,
   "metadata": {},
   "outputs": [],
   "source": [
    "# docme\n",
    "import re, sys\n",
    "import networkx\n",
    "import polars as pl\n",
    "from pathlib import Path\n",
    "\n",
    "from textgrid import textgrid"
   ]
  },
  {
   "cell_type": "code",
   "execution_count": 2,
   "metadata": {},
   "outputs": [
    {
     "name": "stdout",
     "output_type": "stream",
     "text": [
      "\n",
      "Textgrid /home/colin/Projects/SCOTUSProductionPlanning/textgrids_tagged/2013/12-574.TextGrid\n",
      "* Speakers: ['<null>', 'Stephen G. Breyer', 'Antonin Scalia', 'Anthony M. Kennedy', 'Elena Kagan', 'Thomas C. Goldstein', 'Jeffrey S. Bucholtz', 'Sonia Sotomayor', 'Samuel A. Alito, Jr.', 'Melissa Arbus Sherry', 'Ruth Bader Ginsburg', 'John G. Roberts, Jr.']\n",
      "* Tiers: ['words', 'phones', 'pos']\n",
      "\n",
      "dat shape: (65_574, 7)\n",
      "┌───────────────────────────┬──────────────────────┬────────┬───────┬──────────┬──────────┬────────┐\n",
      "│ filename                  ┆ speaker              ┆ tier   ┆ label ┆ start    ┆ end      ┆ dur_ms │\n",
      "│ ---                       ┆ ---                  ┆ ---    ┆ ---   ┆ ---      ┆ ---      ┆ ---    │\n",
      "│ str                       ┆ str                  ┆ str    ┆ str   ┆ f64      ┆ f64      ┆ f64    │\n",
      "╞═══════════════════════════╪══════════════════════╪════════╪═══════╪══════════╪══════════╪════════╡\n",
      "│ /home/colin/Projects/SCOT ┆ <null>               ┆ pos    ┆ PRON  ┆ 1.25     ┆ 1.31     ┆ 60.0   │\n",
      "│ USPro…                    ┆                      ┆        ┆       ┆          ┆          ┆        │\n",
      "│ /home/colin/Projects/SCOT ┆ John G. Roberts, Jr. ┆ phones ┆ W     ┆ 1.25     ┆ 1.28     ┆ 30.0   │\n",
      "│ USPro…                    ┆                      ┆        ┆       ┆          ┆          ┆        │\n",
      "│ /home/colin/Projects/SCOT ┆ John G. Roberts, Jr. ┆ words  ┆ we    ┆ 1.25     ┆ 1.31     ┆ 60.0   │\n",
      "│ USPro…                    ┆                      ┆        ┆       ┆          ┆          ┆        │\n",
      "│ /home/colin/Projects/SCOT ┆ John G. Roberts, Jr. ┆ phones ┆ IY1   ┆ 1.28     ┆ 1.31     ┆ 30.0   │\n",
      "│ USPro…                    ┆                      ┆        ┆       ┆          ┆          ┆        │\n",
      "│ /home/colin/Projects/SCOT ┆ <null>               ┆ pos    ┆ AUX   ┆ 1.7      ┆ 1.85     ┆ 150.0  │\n",
      "│ USPro…                    ┆                      ┆        ┆       ┆          ┆          ┆        │\n",
      "│ …                         ┆ …                    ┆ …      ┆ …     ┆ …        ┆ …        ┆ …      │\n",
      "│ /home/colin/Projects/SCOT ┆ John G. Roberts, Jr. ┆ phones ┆ M     ┆ 3668.721 ┆ 3668.801 ┆ 80.0   │\n",
      "│ USPro…                    ┆                      ┆        ┆       ┆          ┆          ┆        │\n",
      "│ /home/colin/Projects/SCOT ┆ John G. Roberts, Jr. ┆ phones ┆ IH1   ┆ 3668.801 ┆ 3668.871 ┆ 70.0   │\n",
      "│ USPro…                    ┆                      ┆        ┆       ┆          ┆          ┆        │\n",
      "│ /home/colin/Projects/SCOT ┆ John G. Roberts, Jr. ┆ phones ┆ T     ┆ 3668.871 ┆ 3668.901 ┆ 30.0   │\n",
      "│ USPro…                    ┆                      ┆        ┆       ┆          ┆          ┆        │\n",
      "│ /home/colin/Projects/SCOT ┆ John G. Roberts, Jr. ┆ phones ┆ AH0   ┆ 3668.901 ┆ 3668.961 ┆ 60.0   │\n",
      "│ USPro…                    ┆                      ┆        ┆       ┆          ┆          ┆        │\n",
      "│ /home/colin/Projects/SCOT ┆ John G. Roberts, Jr. ┆ phones ┆ D     ┆ 3668.961 ┆ 3669.011 ┆ 50.0   │\n",
      "│ USPro…                    ┆                      ┆        ┆       ┆          ┆          ┆        │\n",
      "└───────────────────────────┴──────────────────────┴────────┴───────┴──────────┴──────────┴────────┘\n",
      "\n"
     ]
    }
   ],
   "source": [
    "# Read textgrid.\n",
    "grid_file = Path.home() / \\\n",
    "    'Projects/SCOTUSProductionPlanning/textgrids_tagged/2013/12-574.TextGrid'\n",
    "dat = textgrid.read(grid_file)"
   ]
  },
  {
   "cell_type": "code",
   "execution_count": 3,
   "metadata": {},
   "outputs": [
    {
     "name": "stdout",
     "output_type": "stream",
     "text": [
      "shape: (42_128, 11)\n",
      "┌────────────────┬────────────────┬───────────┬─────────┬───┬───────┬──────────┬──────────┬────────┐\n",
      "│ filename       ┆ speaker        ┆ word      ┆ word_id ┆ … ┆ phone ┆ start    ┆ end      ┆ dur_ms │\n",
      "│ ---            ┆ ---            ┆ ---       ┆ ---     ┆   ┆ ---   ┆ ---      ┆ ---      ┆ ---    │\n",
      "│ str            ┆ str            ┆ str       ┆ i64     ┆   ┆ str   ┆ f64      ┆ f64      ┆ f64    │\n",
      "╞════════════════╪════════════════╪═══════════╪═════════╪═══╪═══════╪══════════╪══════════╪════════╡\n",
      "│ /home/colin/Pr ┆ John G.        ┆ we        ┆ 0       ┆ … ┆ W     ┆ 1.25     ┆ 1.28     ┆ 30.0   │\n",
      "│ ojects/SCOTUSP ┆ Roberts, Jr.   ┆           ┆         ┆   ┆       ┆          ┆          ┆        │\n",
      "│ ro…            ┆                ┆           ┆         ┆   ┆       ┆          ┆          ┆        │\n",
      "│ /home/colin/Pr ┆ John G.        ┆ we        ┆ 0       ┆ … ┆ IY1   ┆ 1.28     ┆ 1.31     ┆ 30.0   │\n",
      "│ ojects/SCOTUSP ┆ Roberts, Jr.   ┆           ┆         ┆   ┆       ┆          ┆          ┆        │\n",
      "│ ro…            ┆                ┆           ┆         ┆   ┆       ┆          ┆          ┆        │\n",
      "│ /home/colin/Pr ┆ John G.        ┆ will      ┆ 1       ┆ … ┆ W     ┆ 1.7      ┆ 1.76     ┆ 60.0   │\n",
      "│ ojects/SCOTUSP ┆ Roberts, Jr.   ┆           ┆         ┆   ┆       ┆          ┆          ┆        │\n",
      "│ ro…            ┆                ┆           ┆         ┆   ┆       ┆          ┆          ┆        │\n",
      "│ /home/colin/Pr ┆ John G.        ┆ will      ┆ 1       ┆ … ┆ IH1   ┆ 1.76     ┆ 1.8      ┆ 40.0   │\n",
      "│ ojects/SCOTUSP ┆ Roberts, Jr.   ┆           ┆         ┆   ┆       ┆          ┆          ┆        │\n",
      "│ ro…            ┆                ┆           ┆         ┆   ┆       ┆          ┆          ┆        │\n",
      "│ /home/colin/Pr ┆ John G.        ┆ will      ┆ 1       ┆ … ┆ L     ┆ 1.8      ┆ 1.85     ┆ 50.0   │\n",
      "│ ojects/SCOTUSP ┆ Roberts, Jr.   ┆           ┆         ┆   ┆       ┆          ┆          ┆        │\n",
      "│ ro…            ┆                ┆           ┆         ┆   ┆       ┆          ┆          ┆        │\n",
      "│ …              ┆ …              ┆ …         ┆ …       ┆ … ┆ …     ┆ …        ┆ …        ┆ …      │\n",
      "│ /home/colin/Pr ┆ John G.        ┆ submitted ┆ 11722   ┆ … ┆ M     ┆ 3668.721 ┆ 3668.801 ┆ 80.0   │\n",
      "│ ojects/SCOTUSP ┆ Roberts, Jr.   ┆           ┆         ┆   ┆       ┆          ┆          ┆        │\n",
      "│ ro…            ┆                ┆           ┆         ┆   ┆       ┆          ┆          ┆        │\n",
      "│ /home/colin/Pr ┆ John G.        ┆ submitted ┆ 11722   ┆ … ┆ IH1   ┆ 3668.801 ┆ 3668.871 ┆ 70.0   │\n",
      "│ ojects/SCOTUSP ┆ Roberts, Jr.   ┆           ┆         ┆   ┆       ┆          ┆          ┆        │\n",
      "│ ro…            ┆                ┆           ┆         ┆   ┆       ┆          ┆          ┆        │\n",
      "│ /home/colin/Pr ┆ John G.        ┆ submitted ┆ 11722   ┆ … ┆ T     ┆ 3668.871 ┆ 3668.901 ┆ 30.0   │\n",
      "│ ojects/SCOTUSP ┆ Roberts, Jr.   ┆           ┆         ┆   ┆       ┆          ┆          ┆        │\n",
      "│ ro…            ┆                ┆           ┆         ┆   ┆       ┆          ┆          ┆        │\n",
      "│ /home/colin/Pr ┆ John G.        ┆ submitted ┆ 11722   ┆ … ┆ AH0   ┆ 3668.901 ┆ 3668.961 ┆ 60.0   │\n",
      "│ ojects/SCOTUSP ┆ Roberts, Jr.   ┆           ┆         ┆   ┆       ┆          ┆          ┆        │\n",
      "│ ro…            ┆                ┆           ┆         ┆   ┆       ┆          ┆          ┆        │\n",
      "│ /home/colin/Pr ┆ John G.        ┆ submitted ┆ 11722   ┆ … ┆ D     ┆ 3668.961 ┆ 3669.011 ┆ 50.0   │\n",
      "│ ojects/SCOTUSP ┆ Roberts, Jr.   ┆           ┆         ┆   ┆       ┆          ┆          ┆        │\n",
      "│ ro…            ┆                ┆           ┆         ┆   ┆       ┆          ┆          ┆        │\n",
      "└────────────────┴────────────────┴───────────┴─────────┴───┴───────┴──────────┴──────────┴────────┘\n",
      "['filename', 'speaker', 'word', 'word_id', 'word_start', 'word_end', 'word_dur_ms', 'phone', 'start', 'end', 'dur_ms']\n",
      "shape: (11_386, 7)\n",
      "┌───────────────────┬──────────────────┬───────────┬─────────┬────────────┬──────────┬─────────────┐\n",
      "│ filename          ┆ speaker          ┆ word      ┆ word_id ┆ word_start ┆ word_end ┆ word_dur_ms │\n",
      "│ ---               ┆ ---              ┆ ---       ┆ ---     ┆ ---        ┆ ---      ┆ ---         │\n",
      "│ str               ┆ str              ┆ str       ┆ i64     ┆ f64        ┆ f64      ┆ f64         │\n",
      "╞═══════════════════╪══════════════════╪═══════════╪═════════╪════════════╪══════════╪═════════════╡\n",
      "│ /home/colin/Proje ┆ John G. Roberts, ┆ we        ┆ 0       ┆ 1.25       ┆ 1.31     ┆ 60.0        │\n",
      "│ cts/SCOTUSPro…    ┆ Jr.              ┆           ┆         ┆            ┆          ┆             │\n",
      "│ /home/colin/Proje ┆ John G. Roberts, ┆ will      ┆ 1       ┆ 1.7        ┆ 1.85     ┆ 150.0       │\n",
      "│ cts/SCOTUSPro…    ┆ Jr.              ┆           ┆         ┆            ┆          ┆             │\n",
      "│ /home/colin/Proje ┆ John G. Roberts, ┆ hear      ┆ 2       ┆ 1.85       ┆ 2.0      ┆ 150.0       │\n",
      "│ cts/SCOTUSPro…    ┆ Jr.              ┆           ┆         ┆            ┆          ┆             │\n",
      "│ /home/colin/Proje ┆ John G. Roberts, ┆ argument  ┆ 3       ┆ 2.0        ┆ 2.4      ┆ 400.0       │\n",
      "│ cts/SCOTUSPro…    ┆ Jr.              ┆           ┆         ┆            ┆          ┆             │\n",
      "│ /home/colin/Proje ┆ John G. Roberts, ┆ first     ┆ 4       ┆ 2.4        ┆ 2.68     ┆ 280.0       │\n",
      "│ cts/SCOTUSPro…    ┆ Jr.              ┆           ┆         ┆            ┆          ┆             │\n",
      "│ …                 ┆ …                ┆ …         ┆ …       ┆ …          ┆ …        ┆ …           │\n",
      "│ /home/colin/Proje ┆ John G. Roberts, ┆ counsel   ┆ 11718   ┆ 3667.278   ┆ 3667.478 ┆ 200.0       │\n",
      "│ cts/SCOTUSPro…    ┆ Jr.              ┆           ┆         ┆            ┆          ┆             │\n",
      "│ /home/colin/Proje ┆ John G. Roberts, ┆ the       ┆ 11719   ┆ 3667.651   ┆ 3667.991 ┆ 340.0       │\n",
      "│ cts/SCOTUSPro…    ┆ Jr.              ┆           ┆         ┆            ┆          ┆             │\n",
      "│ /home/colin/Proje ┆ John G. Roberts, ┆ case      ┆ 11720   ┆ 3668.091   ┆ 3668.471 ┆ 380.0       │\n",
      "│ cts/SCOTUSPro…    ┆ Jr.              ┆           ┆         ┆            ┆          ┆             │\n",
      "│ /home/colin/Proje ┆ John G. Roberts, ┆ is        ┆ 11721   ┆ 3668.471   ┆ 3668.591 ┆ 120.0       │\n",
      "│ cts/SCOTUSPro…    ┆ Jr.              ┆           ┆         ┆            ┆          ┆             │\n",
      "│ /home/colin/Proje ┆ John G. Roberts, ┆ submitted ┆ 11722   ┆ 3668.591   ┆ 3669.011 ┆ 420.0       │\n",
      "│ cts/SCOTUSPro…    ┆ Jr.              ┆           ┆         ┆            ┆          ┆             │\n",
      "└───────────────────┴──────────────────┴───────────┴─────────┴────────────┴──────────┴─────────────┘\n",
      "DiGraph with 53514 nodes and 106341 edges\n"
     ]
    }
   ],
   "source": [
    "# Convert to graph.\n",
    "graph = textgrid.to_graph(dat)\n",
    "print(graph)"
   ]
  },
  {
   "cell_type": "code",
   "execution_count": 20,
   "metadata": {},
   "outputs": [
    {
     "name": "stdout",
     "output_type": "stream",
     "text": [
      "823\n",
      "(22, {'speaker': 'Jeffrey S. Bucholtz', 'tier': 'word', 'label': 'the', 'start_ms': 10.303999999999998, 'end_ms': 10.373999999999999})\n",
      "(22, 21, {'label': 'prec'})\n",
      "{'speaker': 'Jeffrey S. Bucholtz', 'tier': 'word', 'label': 'please', 'start_ms': 10.043999999999999, 'end_ms': 10.303999999999998}\n",
      "(22, 23, {'label': 'succ'})\n",
      "{'speaker': 'Jeffrey S. Bucholtz', 'tier': 'word', 'label': 'court', 'start_ms': 10.373999999999999, 'end_ms': 10.764}\n",
      "(22, 11791, {'label': 0})\n",
      "{'speaker': 'Jeffrey S. Bucholtz', 'tier': 'phone', 'label': 'DH', 'start_ms': 10.303999999999998, 'end_ms': 10.334}\n",
      "(22, 11792, {'label': 1})\n",
      "{'speaker': 'Jeffrey S. Bucholtz', 'tier': 'phone', 'label': 'AH0', 'start_ms': 10.334, 'end_ms': 10.373999999999999}\n"
     ]
    }
   ],
   "source": [
    "# Graph queries.\n",
    "N_the = [(n,d) for (n,d) in graph.nodes(data=True) \\\n",
    "            if d['tier']=='word' and d['label']=='the']\n",
    "print(len(N_the))\n",
    "print(N_the[0])\n",
    "\n",
    "for n in graph.edges(N_the[0][0], data=True):\n",
    "    print(n)\n",
    "    print(graph.nodes[n[1]])\n",
    "#    print(n[1])\n",
    "#    print(graph.get_node_attributes(n))\n"
   ]
  }
 ],
 "metadata": {
  "kernelspec": {
   "display_name": "py3_12",
   "language": "python",
   "name": "python3"
  },
  "language_info": {
   "codemirror_mode": {
    "name": "ipython",
    "version": 3
   },
   "file_extension": ".py",
   "mimetype": "text/x-python",
   "name": "python",
   "nbconvert_exporter": "python",
   "pygments_lexer": "ipython3",
   "version": "3.12.3"
  }
 },
 "nbformat": 4,
 "nbformat_minor": 2
}
